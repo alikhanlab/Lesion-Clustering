{
 "cells": [
  {
   "cell_type": "markdown",
   "metadata": {},
   "source": [
    "# Test case - Vertex"
   ]
  },
  {
   "cell_type": "code",
   "execution_count": 1,
   "metadata": {},
   "outputs": [],
   "source": [
    "import numpy as np\n",
    "import pandas as pd\n",
    "# some_file.py\n",
    "import sys\n",
    "# insert at 1, 0 is the script path (or '' in REPL)\n",
    "sys.path.insert(1, '/Users/alikhannurlanuly/Lesion-Clustering/vertex_face_feature/')\n",
    "from vertex_functions import create_vertex, calculate_vertex"
   ]
  },
  {
   "cell_type": "markdown",
   "metadata": {},
   "source": [
    "# Vertex - face case"
   ]
  },
  {
   "cell_type": "code",
   "execution_count": 2,
   "metadata": {},
   "outputs": [],
   "source": [
    "def test_vertex(points, face_neighbors):   \n",
    "    df = pd.DataFrame()\n",
    "    df['xyz'] = points\n",
    "    df['face_neighbors'] = face_neighbors\n",
    "    df = create_vertex(df)\n",
    "    df.insert(0, 'voxel_id', range(0, len(df)))\n",
    "    df = calculate_vertex(df)\n",
    "    df.drop(columns = ['v1', 'v2', 'v3', 'v4', 'v5', 'v6', 'v7', 'v8'], inplace = True)\n",
    "    \n",
    "    return df"
   ]
  },
  {
   "cell_type": "code",
   "execution_count": 3,
   "metadata": {},
   "outputs": [],
   "source": [
    "# Across x, only 3 points\n",
    "x0 = [-1, 0, 0]\n",
    "x1 = [0, 0, 0]\n",
    "x2 = [1, 0, 0]\n",
    "\n",
    "points = [x0, x1, x2]\n",
    "face_neighbors = [[1], [0, 2], [1]]\n",
    "\n",
    "df_vertex_3points = test_vertex(points, face_neighbors)"
   ]
  },
  {
   "cell_type": "code",
   "execution_count": 5,
   "metadata": {},
   "outputs": [],
   "source": [
    "# Accross x, y, only 9 points\n",
    "\n",
    "x0 = [-1, 0, 0]\n",
    "x1 = [-1, 1, 0]\n",
    "x2 = [-1, 2, 0]\n",
    "x3 = [0, 0, 0]\n",
    "x4 = [0, 1, 0]\n",
    "x5 = [0, 2, 0]\n",
    "x6 = [1, 0, 0]\n",
    "x7 = [1, 1, 0]\n",
    "x8 = [1, 2, 0]\n",
    "\n",
    "points = [x0, x1, x2, x3, x4, x5, x6, x7, x8]\n",
    "face_neighbors = [\n",
    "    [1, 3],\n",
    "    [0, 2, 4],\n",
    "    [1, 5],\n",
    "    [0, 4, 6],\n",
    "    [1, 3, 5, 7],\n",
    "    [2, 4, 8],\n",
    "    [3, 7],\n",
    "    [4, 6, 8],\n",
    "    [5, 7],\n",
    "]\n",
    "\n",
    "df_vertex_9points = test_vertex(points, face_neighbors)"
   ]
  },
  {
   "cell_type": "code",
   "execution_count": 7,
   "metadata": {},
   "outputs": [],
   "source": [
    "# Accross x, y, z only 27 points\n",
    "x0 = [-1, 0, 0]\n",
    "x1 = [-1, 0, 1]\n",
    "x2 = [-1, 0, 2]\n",
    "x3 = [-1, 1, 0]\n",
    "x4 = [-1, 1, 1]\n",
    "x5 = [-1, 1, 2]\n",
    "x6 = [-1, 2, 0]\n",
    "x7 = [-1, 2, 1]\n",
    "x8 = [-1, 2, 2]\n",
    "\n",
    "x9 = [0, 0, 0]\n",
    "x10 = [0, 0, 1]\n",
    "x11 = [0, 0, 2]\n",
    "x12 = [0, 1, 0]\n",
    "x13 = [0, 1, 1]\n",
    "x14 = [0, 1, 2]\n",
    "x15 = [0, 2, 0]\n",
    "x16 = [0, 2, 1]\n",
    "x17 = [0, 2, 2]\n",
    "\n",
    "x18 = [1, 0, 0]\n",
    "x19 = [1, 0, 1]\n",
    "x20 = [1, 0, 2]\n",
    "x21 = [1, 1, 0]\n",
    "x22 = [1, 1, 1]\n",
    "x23 = [1, 1, 2]\n",
    "x24 = [1, 2, 0]\n",
    "x25 = [1, 2, 1]\n",
    "x26 = [1, 2, 2]\n",
    "\n",
    "X = np.array([x0, x1, x2, x3, x4, x5, x6, x7, x8, x9, x10, x11, x12, x13,x14, x15,\n",
    "             x16, x17, x18, x19, x20, x21, x22, x23, x24, x25, x26])\n",
    "\n",
    "face_neighbors = []\n",
    "for x in X:\n",
    "    nei = []\n",
    "    sub_loop = abs(x - X)\n",
    "    for count, i in enumerate(sub_loop):\n",
    "        if sum(i) == 1:\n",
    "            nei.append(count)\n",
    "    face_neighbors.append(nei)\n",
    "    \n",
    "df_vertex_27points = test_vertex(list(X), face_neighbors)"
   ]
  }
 ],
 "metadata": {
  "kernelspec": {
   "display_name": "Python 3",
   "language": "python",
   "name": "python3"
  },
  "language_info": {
   "codemirror_mode": {
    "name": "ipython",
    "version": 3
   },
   "file_extension": ".py",
   "mimetype": "text/x-python",
   "name": "python",
   "nbconvert_exporter": "python",
   "pygments_lexer": "ipython3",
   "version": "3.7.1"
  }
 },
 "nbformat": 4,
 "nbformat_minor": 2
}
